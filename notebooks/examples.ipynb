{
 "cells": [
  {
   "cell_type": "code",
   "execution_count": 2,
   "metadata": {},
   "outputs": [],
   "source": [
    "import sys\n",
    "sys.path.insert(0,'..')\n",
    "\n",
    "from light_pipe_geo import processing, pipeline, concurrency, mercantile, gridding"
   ]
  },
  {
   "cell_type": "markdown",
   "metadata": {},
   "source": [
    "# Get Tiles From a GeoTiff File"
   ]
  },
  {
   "cell_type": "code",
   "execution_count": 3,
   "metadata": {},
   "outputs": [],
   "source": [
    "from osgeo import gdal\n",
    "import numpy as np\n",
    "\n",
    "gdal.UseExceptions()\n",
    "\n",
    "savepath = \"../data/examples/make_tiles/tiles.tif\"\n",
    "tif_path = \"../data/image.tif\"\n",
    "\n",
    "lp_sample = processing.LightPipeSample(tif_path)\n",
    "\n",
    "tiles = lp_sample.tile()\n",
    "preds = list()\n",
    "for tile in tiles:\n",
    "    preds += [np.any(tile.X)]\n",
    "lp_sample.save(savepath, preds)\n"
   ]
  },
  {
   "cell_type": "markdown",
   "metadata": {},
   "source": [
    "# Create Label Mask from `.shp` File"
   ]
  },
  {
   "cell_type": "code",
   "execution_count": 4,
   "metadata": {},
   "outputs": [],
   "source": [
    "inputs = [\n",
    "    {\n",
    "        'dataset': '../data/image.tif',\n",
    "        'datasources': ['../data/label/label.shp']\n",
    "    },\n",
    "]\n",
    "pipe = pipeline.LightPipeline(inputs)\n",
    "\n",
    "for sample in pipe:\n",
    "    tiles = sample.tile()\n",
    "    preds = list()\n",
    "    for tile in tiles:\n",
    "        preds += [np.any(tile.y)]\n",
    "\n",
    "    savepath = f\"../data/examples/make_masks/shp_sample_{sample.data.uid}\"\n",
    "    sample.save(savepath, preds) "
   ]
  },
  {
   "cell_type": "markdown",
   "metadata": {},
   "source": [
    "# Create Label Mask from `.geojson` File"
   ]
  },
  {
   "cell_type": "code",
   "execution_count": 5,
   "metadata": {},
   "outputs": [],
   "source": [
    "inputs = [\n",
    "    {\n",
    "        'dataset': '../data/image.tif',\n",
    "        'datasources': ['../data/label.geojson']\n",
    "    },\n",
    "]\n",
    "pipe = pipeline.LightPipeline(inputs)\n",
    "\n",
    "for sample in pipe:\n",
    "    tiles = sample.tile()\n",
    "    preds = list()\n",
    "    for tile in tiles:\n",
    "        preds += [np.any(tile.y)]\n",
    "\n",
    "    savepath = f\"../data/examples/make_masks/geojson_sample_{sample.data.uid}\"\n",
    "    sample.save(savepath, preds) "
   ]
  },
  {
   "cell_type": "markdown",
   "metadata": {},
   "source": [
    "# Create Label Mask from `.geojson` File With Different CRS"
   ]
  },
  {
   "cell_type": "code",
   "execution_count": 6,
   "metadata": {},
   "outputs": [],
   "source": [
    "inputs = [\n",
    "    {\n",
    "        'dataset': '../data/image.tif',\n",
    "        'datasources': ['../data/label_utm.geojson']\n",
    "    },\n",
    "]\n",
    "pipe = pipeline.LightPipeline(inputs)\n",
    "\n",
    "for sample in pipe:\n",
    "    tiles = sample.tile()\n",
    "    preds = list()\n",
    "    for tile in tiles:\n",
    "        preds += [np.any(tile.y)]\n",
    "\n",
    "    savepath = f\"../data/examples/make_masks/utm_geojson_sample_{sample.data.uid}\"\n",
    "    sample.save(savepath, preds) "
   ]
  },
  {
   "cell_type": "markdown",
   "metadata": {},
   "source": [
    "# Create Grid Cell Datasets"
   ]
  },
  {
   "cell_type": "code",
   "execution_count": 7,
   "metadata": {},
   "outputs": [],
   "source": [
    "inputs = [\n",
    "    {\n",
    "        'datum': '../data/image.tif',\n",
    "        'is_label': False,\n",
    "    },\n",
    "    {\n",
    "        'datum': '../data/label/label.shp',\n",
    "        'is_label': True\n",
    "    },\n",
    "    {\n",
    "        'datum': '../data/label.geojson',\n",
    "        'is_label': True\n",
    "    },    \n",
    "    {\n",
    "        'datum': '../data/label_utm.geojson',\n",
    "        'is_label': True\n",
    "    }    \n",
    "]\n",
    "gh = processing.GridSampleMaker()\n",
    "pipe = pipeline.LightPipeline(inputs, processors=[gh])\n",
    "\n",
    "for sample in pipe:\n",
    "    tiles = sample.tile()\n",
    "    preds = list()\n",
    "    for tile in tiles:\n",
    "        preds += [np.any(tile.y)]\n",
    "\n",
    "    savepath = f\"../data/examples/make_grid_cells/grid_cell_{sample.data.uid}.tif\"\n",
    "    sample.save(savepath, preds) "
   ]
  }
 ],
 "metadata": {
  "kernelspec": {
   "display_name": "Python 3.8.13 ('solaris')",
   "language": "python",
   "name": "python3"
  },
  "language_info": {
   "codemirror_mode": {
    "name": "ipython",
    "version": 3
   },
   "file_extension": ".py",
   "mimetype": "text/x-python",
   "name": "python",
   "nbconvert_exporter": "python",
   "pygments_lexer": "ipython3",
   "version": "3.8.13"
  },
  "orig_nbformat": 4,
  "vscode": {
   "interpreter": {
    "hash": "d2131a05a407d72c568b04c4b48f5b496c13ac5e461aa9c37b791eea91ee139d"
   }
  }
 },
 "nbformat": 4,
 "nbformat_minor": 2
}
