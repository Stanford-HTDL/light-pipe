{
 "cells": [
  {
   "cell_type": "code",
   "execution_count": null,
   "metadata": {},
   "outputs": [],
   "source": [
    "import json\n",
    "import os\n",
    "import sys\n",
    "sys.path.insert(0,'..')\n",
    "\n",
    "from light_pipe import Data, Parallelizer, Transformer\n",
    "from light_pipe_geo import mercantile, gridding"
   ]
  },
  {
   "cell_type": "code",
   "execution_count": null,
   "metadata": {},
   "outputs": [],
   "source": [
    "def get_filepaths(file_manifest_path, path_extension, *args, **kwargs):\n",
    "    with open(file_manifest_path, \"r\") as fp:\n",
    "        files_dict = json.load(fp)\n",
    "\n",
    "    for geojson_path, path_tuples in files_dict.items():\n",
    "        for (img_path, udm_path) in path_tuples:\n",
    "            img_path = path_extension + img_path[1:]\n",
    "            udm_path = path_extension + udm_path[1:]\n",
    "            yield (geojson_path, img_path, udm_path)"
   ]
  },
  {
   "cell_type": "code",
   "execution_count": null,
   "metadata": {},
   "outputs": [],
   "source": [
    "def get_tiles(paths_tup, zooms, truncate=True, *args, **kwargs):\n",
    "    geojson_path, img_path, udm_path = paths_tup\n",
    "    with open(geojson_path, \"r\") as fp:\n",
    "        geojson_dict = json.load(fp)    \n",
    "    geo_bounds = mercantile.geojson_bounds(geojson_dict)\n",
    "    west = geo_bounds.west\n",
    "    south = geo_bounds.south\n",
    "    east = geo_bounds.east\n",
    "    north = geo_bounds.north\n",
    "\n",
    "    tiles = mercantile.tiles(west, south, east, north, zooms, truncate)\n",
    "    for tile in tiles:\n",
    "        yield tile, geojson_path, img_path, udm_path"
   ]
  },
  {
   "cell_type": "code",
   "execution_count": null,
   "metadata": {},
   "outputs": [],
   "source": [
    "file_manifest_path = \"C:/Projects/therm-two/data/files.json\"\n",
    "path_extension = \"C:\\\\Projects\\\\therm-two\"\n",
    "\n",
    "zooms = [16, 17, 18, 19, 20, 21, 22]\n",
    "truncate = True\n",
    "\n",
    "data = Data(generator=get_filepaths)\n",
    "pipe = data | Transformer(get_tiles, zooms=zooms)"
   ]
  },
  {
   "cell_type": "code",
   "execution_count": null,
   "metadata": {},
   "outputs": [],
   "source": [
    "def make_tile_datasets(item, out_dir, pixel_x_meters, pixel_y_meters, is_archive, *args, **kwargs):\n",
    "    tile, geojson_path, img_path, udm_path = item\n",
    "\n",
    "    if is_archive:\n",
    "        img_path = '/vsizip/' + img_path\n",
    "        udm_path = '/vsizip/' + udm_path\n",
    "\n",
    "    zoom = tile.z\n",
    "\n",
    "    quad_key = mercantile.quadkey(tile)\n",
    "\n",
    "    # Make filepaths\n",
    "    out_sub_dir = os.path.join(out_dir, \"zoom_\" + str(zoom), quad_key + '/')\n",
    "    os.makedirs(out_sub_dir, exist_ok=True)\n",
    "    out_target_path = os.path.join(out_sub_dir, \"target.tif\")\n",
    "    out_img_path = os.path.join(out_sub_dir, \"img.tif\")\n",
    "    out_udm_path = os.path.join(out_sub_dir, \"udm.tif\")\n",
    "\n",
    "\n",
    "    # Make datasets\n",
    "    gridding.make_grid_cell_dataset(\n",
    "        grid_cell=tile, datum=geojson_path, return_filepaths=True, is_label=True, \n",
    "        in_memory=False, pixel_x_meters=pixel_x_meters, pixel_y_meters=pixel_y_meters,\n",
    "        grid_cell_filepath=out_target_path\n",
    "    )\n",
    "\n",
    "    gridding.make_grid_cell_dataset(\n",
    "        grid_cell=tile, datum=img_path, return_filepaths=True, is_label=False, \n",
    "        in_memory=False, pixel_x_meters=pixel_x_meters, pixel_y_meters=pixel_y_meters,\n",
    "        grid_cell_filepath=out_img_path\n",
    "    )\n",
    "\n",
    "    gridding.make_grid_cell_dataset(\n",
    "        grid_cell=tile, datum=udm_path, return_filepaths=True, is_label=True, \n",
    "        in_memory=False, pixel_x_meters=pixel_x_meters, pixel_y_meters=pixel_y_meters,\n",
    "        grid_cell_filepath=out_udm_path\n",
    "    )\n",
    "\n",
    "    return out_target_path, out_img_path, out_udm_path"
   ]
  },
  {
   "cell_type": "code",
   "execution_count": null,
   "metadata": {},
   "outputs": [],
   "source": [
    "file_manifest_path = \"C:/Projects/therm-two/data/files.json\"\n",
    "path_extension = \"C:\\\\Projects\\\\therm-two\"\n",
    "out_dir = '../data/samples/'\n",
    "pixel_x_meters = 3.0\n",
    "pixel_y_meters = -3.0\n",
    "is_archive = True\n",
    "\n",
    "zooms = [16, 17, 18, 19, 20, 21, 22]\n",
    "truncate = True\n",
    "\n",
    "data = Data(generator=get_filepaths)\n",
    "pipe = data | Transformer(get_tiles, zooms=zooms)\n",
    "pipe = pipe | Transformer(make_tile_datasets, out_dir=out_dir, pixel_x_meters=pixel_x_meters, pixel_y_meters=pixel_y_meters, is_archive=is_archive)"
   ]
  },
  {
   "cell_type": "code",
   "execution_count": null,
   "metadata": {},
   "outputs": [],
   "source": [
    "items = pipe(file_manifest_path=file_manifest_path, path_extension=path_extension, block=True)"
   ]
  },
  {
   "cell_type": "code",
   "execution_count": null,
   "metadata": {},
   "outputs": [],
   "source": [
    "items"
   ]
  }
 ],
 "metadata": {
  "kernelspec": {
   "display_name": "Python 3.10.5 ('GDAL')",
   "language": "python",
   "name": "python3"
  },
  "language_info": {
   "codemirror_mode": {
    "name": "ipython",
    "version": 3
   },
   "file_extension": ".py",
   "mimetype": "text/x-python",
   "name": "python",
   "nbconvert_exporter": "python",
   "pygments_lexer": "ipython3",
   "version": "3.10.5"
  },
  "orig_nbformat": 4,
  "vscode": {
   "interpreter": {
    "hash": "1aaa0c501effd0340b2d09bdcb577cbcee6aedd1168d88208c34bf3bdb0f486d"
   }
  }
 },
 "nbformat": 4,
 "nbformat_minor": 2
}
